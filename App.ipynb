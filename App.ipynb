{
  "cells": [
    {
      "cell_type": "markdown",
      "metadata": {
        "id": "view-in-github",
        "colab_type": "text"
      },
      "source": [
        "<a href=\"https://colab.research.google.com/github/annopol/NLP-with-Flask/blob/main/App.ipynb\" target=\"_parent\"><img src=\"https://colab.research.google.com/assets/colab-badge.svg\" alt=\"Open In Colab\"/></a>"
      ]
    },
    {
      "cell_type": "markdown",
      "source": [
        "Utworzenie folderu do szablonów HTML"
      ],
      "metadata": {
        "id": "AHLs1JW8cG05"
      }
    },
    {
      "cell_type": "code",
      "source": [
        "%mkdir templates -p"
      ],
      "metadata": {
        "id": "nTXTzyPIeD5q"
      },
      "execution_count": null,
      "outputs": []
    },
    {
      "cell_type": "markdown",
      "source": [
        "Utworzenie szablonów HTML"
      ],
      "metadata": {
        "id": "E2kcTmvJcNJr"
      }
    },
    {
      "cell_type": "markdown",
      "source": [
        "Strona główna"
      ],
      "metadata": {
        "id": "Tff56RLScOwL"
      }
    },
    {
      "cell_type": "code",
      "source": [
        "%%writefile templates/index.html\n",
        "\n",
        "<!DOCTYPE html>\n",
        "<html>\n",
        "<head>\n",
        "<title>Main landing page</title>\n",
        "<meta name=\"viewport\" content=\"width=device-width, initial-scale=1.0\">\n",
        "<style>\n",
        "body{\n",
        "  font-family: arial;\n",
        "  font-size: 18px;\n",
        "  background-color : linen\n",
        "}\n",
        ".container {\n",
        "        display: flex;\n",
        "        align-items: center;\n",
        "        justify-content: center\n",
        "      }\n",
        "      img {\n",
        "        max-width: 80%;\n",
        "        order: 1\n",
        "      }\n",
        "      .image {\n",
        "        flex-basis: 40%\n",
        "      }\n",
        "      .text {\n",
        "        font-size: 20px;\n",
        "        padding-left: 5px;\n",
        "        color: #CD5C5C;\n",
        "      }\n",
        "\n",
        "footer{\n",
        "    display: table;\n",
        "    text-align: center;\n",
        "    margin-left: auto;\n",
        "    margin-right: auto;\n",
        "}\n",
        "</style></head>\n",
        "<body>\n",
        "\n",
        "  <div class=\"container\">\n",
        "      <div class=\"image\">\n",
        "      <img src=\"https://images.unsplash.com/photo-1434626881859-194d67b2b86f?ixlib=rb-4.0.3&ixid=M3wxMjA3fDB8MHxwaG90by1wYWdlfHx8fGVufDB8fHx8fA%3D%3D&auto=format&fit=crop&w=1174&q=80\" alt=”header”>\n",
        "      </div>\n",
        "      <div class=\"text\">\n",
        "        <h1> Welcome to the Satifaction Survey!</h1></br>\n",
        "      </div>\n",
        "  </div>\n",
        "  </br>\n",
        "    <div style=\"text-align:center\">\n",
        "    <label><b>Share your experience with us:</b></label></br></br>\n",
        "    <button class=\"btn\" type=\"button\" onclick=\"window.location.href='{{ url_for('join') }}';\"><b>Fill your review form</button></b>\n",
        "    </br></br>\n",
        "\n",
        "    <label><b>Check experience of our customers:</b></label></br></br>\n",
        "    <button class=\"btn\" type=\"button\" onclick=\"window.location.href='{{ url_for('participants') }}';\"><b>See all reviews</b></button>\n",
        "    </br></br>\n",
        "\n",
        "    <label><b>See summary of reviews:</b></label></br></br>\n",
        "    <button class=\"btn\" type=\"button\" onclick=\"window.location.href='{{ url_for('wordcloud') }}';\"><b>See wordclouds</b></button>\n",
        "\n",
        "    </div>\n",
        "</body>\n",
        "<footer>\n",
        "<font size=\"-1\"></br>\n",
        "  <p>Thank you for your time!</p>\n",
        "</footer>\n",
        "<html>\n"
      ],
      "metadata": {
        "colab": {
          "base_uri": "https://localhost:8080/"
        },
        "id": "X5cxWw2OeNSH",
        "outputId": "e478ef57-340c-469f-edd5-27879062911d"
      },
      "execution_count": null,
      "outputs": [
        {
          "output_type": "stream",
          "name": "stdout",
          "text": [
            "Overwriting templates/index.html\n"
          ]
        }
      ]
    },
    {
      "cell_type": "markdown",
      "source": [
        "Strona do wyświetlenia chmury wyrazów:"
      ],
      "metadata": {
        "id": "r7VidwoScSAc"
      }
    },
    {
      "cell_type": "code",
      "source": [
        "%%writefile templates/wordcloud.html\n",
        "\n",
        "<!DOCTYPE html>\n",
        "<html>\n",
        "\t<head>\n",
        "\t\t<title>Wordcloud for reviews text</title>\n",
        "\t</head>\n",
        "\t<style>\n",
        "    body{\n",
        "    background-color : linen\n",
        "    }\n",
        "\n",
        "\t</style>\n",
        "\t<body>\n",
        "  <h1> The Word Cloud for the Satifaction Survey!</h1></br>\n",
        "  <p>A word cloud is a visual representation of text data where the size of each word corresponds to its frequency or importance within the text. It is a popular way to display and summarize textual information in a visually appealing and intuitive manner.</br>\n",
        "    The more frequently a word appears in the text, the larger its size in the word cloud. This allows viewers to quickly identify the most significant or frequently used words at a glance.</br>\n",
        "</br></p>\n",
        "\t<div class=\"img\" align=\"center\">\n",
        "        <img src=\"data:image/png;base64,{{ img_data }}\"/>\n",
        "    </div>\n",
        "\n",
        "       </body>\n",
        "</html>\n"
      ],
      "metadata": {
        "colab": {
          "base_uri": "https://localhost:8080/"
        },
        "id": "60p-SZA79BH4",
        "outputId": "2965df1d-b3fe-48c9-ce75-2097b8e5758a"
      },
      "execution_count": null,
      "outputs": [
        {
          "output_type": "stream",
          "name": "stdout",
          "text": [
            "Overwriting templates/wordcloud.html\n"
          ]
        }
      ]
    },
    {
      "cell_type": "markdown",
      "source": [
        "Strona do wyświetlenia wyników badania"
      ],
      "metadata": {
        "id": "AgiBofIecWlt"
      }
    },
    {
      "cell_type": "code",
      "source": [
        "%%writefile templates/participants.html\n",
        "\n",
        "<!DOCTYPE html>\n",
        "<html>\n",
        "\t<head>\n",
        "\t\t<title>Reviews of survey's participants </title>\n",
        "\t</head>\n",
        "\t<style>\n",
        "\t\ttable, th, td {\n",
        "\t\tborder:1px solid black;\n",
        "\t\t}\n",
        "    body{\n",
        "    background-color : linen\n",
        "    }\n",
        "\n",
        "\t\th1{\n",
        "  \ttext-align: center;\n",
        "\t\t}\n",
        "\n",
        "\t</style>\n",
        "\t<body>\n",
        "\t<h1> The reviews</h1></br>\n",
        "\t\t<table style=\"width:100%\">\n",
        "\t\t\t<tr>\n",
        "\t\t\t<th>Name</th>\n",
        "\t\t\t<th>Email</th>\n",
        "\t\t\t<th>Country</th>\n",
        "\t\t\t<th>Review</th>\n",
        "      <th>Note</th>\n",
        "\t\t\t</tr>\n",
        "\t\t\t{%for participant in data%}\n",
        "\t\t\t<tr>\n",
        "\t\t\t\t<td>{{participant[0]}}</td>\n",
        "\t\t\t\t<td>{{participant[1]}}</td>\n",
        "\t\t\t\t<td>{{participant[2]}}</td>\n",
        "\t\t\t\t<td>{{participant[3]}}</td>\n",
        "\t\t\t\t<td>{{participant[4]}}</td>\n",
        "\t\t\t\t</tr>\n",
        "\t\t\t{%endfor%}\n",
        "\t\t</table>\n",
        "\t</body>\n",
        "</html>\n"
      ],
      "metadata": {
        "colab": {
          "base_uri": "https://localhost:8080/"
        },
        "id": "uu1wSWpcXWhy",
        "outputId": "36ec472a-91fb-4baf-f51e-0e1199ff00f9"
      },
      "execution_count": null,
      "outputs": [
        {
          "output_type": "stream",
          "name": "stdout",
          "text": [
            "Overwriting templates/participants.html\n"
          ]
        }
      ]
    },
    {
      "cell_type": "markdown",
      "source": [
        "Strona do dodania recenzji"
      ],
      "metadata": {
        "id": "5kq6FEMMHbyi"
      }
    },
    {
      "cell_type": "code",
      "source": [
        "%%writefile templates/join.html\n",
        "\n",
        "<!DOCTYPE html>\n",
        "<html>\n",
        "<meta name=\"viewport\" content=\"width=device-width, initial-scale=1.0\">\n",
        "<style>\n",
        "    body{\n",
        "    background-color : linen;\n",
        "    display:flex; flex-direction:column; justify-content:center;\n",
        "    min-height:100vh;\n",
        "    font-family: arial;\n",
        "    }\n",
        "\n",
        "    form {\n",
        "    display: flex;\n",
        "    flex-direction: column;\n",
        "    align-items: flex-start;\n",
        "    }\n",
        "    .container {\n",
        "        display: flex;\n",
        "        align-items: center;\n",
        "        justify-content: center\n",
        "      }\n",
        "      img {\n",
        "        max-width: 80%\n",
        "      }\n",
        "      .image {\n",
        "        flex-basis: 40%\n",
        "      }\n",
        "      .text {\n",
        "        font-size: 20px;\n",
        "        padding-left: 5px;\n",
        "      }\n",
        "   </style>\n",
        "\t<body>\n",
        "        <h1> Share your opinion</h1>\n",
        "  <div class=\"container\">\n",
        "      <div class=\"image\">\n",
        "        <img src=\"https://images.unsplash.com/photo-1531379410502-63bfe8cdaf6f?ixlib=rb-4.0.3&ixid=M3wxMjA3fDB8MHxwaG90by1wYWdlfHx8fGVufDB8fHx8fA%3D%3D&auto=format&fit=crop&w=387&q=80\" alt=\"survey\">\n",
        "      </div>\n",
        "\n",
        "\t\t<form method=\"POST\">\n",
        "\t\t\t<label>Your Name:</label>\n",
        "\t\t\t<input type=\"name\" name=\"name\" placeholder=\"Enter your name\" required><br/>\n",
        "\t\t\t<label>Your Email:</label>\n",
        "\t\t\t<input type=\"email\" name=\"email\" placeholder=\"Enter your email\" required><br/>\n",
        "\t\t\t<label>Your Country:</label>\n",
        "\t\t\t<input type=\"name\" name=\"country\" placeholder=\"Enter your country\" required><br/>\n",
        "      <label>Your Review:</label>\n",
        "\t\t\t<input type=\"name\" name=\"review\" placeholder=\"Your opinion\"  maxlength=\"524\" size=\"154\" required><br/>\n",
        "\n",
        "      <label for=\"note\">What is your overall impression:</label>\n",
        "      <select id=\"note\" name=\"note\">\n",
        "      <option value=\"1 - Terrible\">1 - Terrible</option>\n",
        "      <option value=\"2 - Could be worse\">2 - Could be worse</option>\n",
        "      <option value=\"3 - Decent\">3 - Decent</option>\n",
        "      <option value=\"4 - Wonderful\">4 - Wonderful</option>\n",
        "      </select>\n",
        "      <br/>\n",
        "      <br/>\n",
        "\t\t\t<input type = \"submit\" value = \"Submit\"/><br/>\n",
        "\t\t</form>\n",
        "    </div>\n",
        "\t</body>\n",
        "</html>\n",
        "\n",
        "\n",
        "\n"
      ],
      "metadata": {
        "colab": {
          "base_uri": "https://localhost:8080/"
        },
        "id": "Z15DCzWrXLia",
        "outputId": "819b3d5f-70fc-45e4-9070-3043ce7abf6b"
      },
      "execution_count": null,
      "outputs": [
        {
          "output_type": "stream",
          "name": "stdout",
          "text": [
            "Overwriting templates/join.html\n"
          ]
        }
      ]
    },
    {
      "cell_type": "markdown",
      "source": [
        "Instalacja bibliotek"
      ],
      "metadata": {
        "id": "-hx9pO8YcwHm"
      }
    },
    {
      "cell_type": "code",
      "source": [
        "!pip install pyngrok"
      ],
      "metadata": {
        "colab": {
          "base_uri": "https://localhost:8080/"
        },
        "id": "3eT9xU36hOk9",
        "outputId": "dc73d3e2-a4b7-4470-e102-ba9f511a6a27"
      },
      "execution_count": null,
      "outputs": [
        {
          "output_type": "stream",
          "name": "stdout",
          "text": [
            "Looking in indexes: https://pypi.org/simple, https://us-python.pkg.dev/colab-wheels/public/simple/\n",
            "Requirement already satisfied: pyngrok in /usr/local/lib/python3.10/dist-packages (6.0.0)\n",
            "Requirement already satisfied: PyYAML in /usr/local/lib/python3.10/dist-packages (from pyngrok) (6.0)\n"
          ]
        }
      ]
    },
    {
      "cell_type": "code",
      "source": [
        "!pip install db-sqlite3"
      ],
      "metadata": {
        "colab": {
          "base_uri": "https://localhost:8080/"
        },
        "id": "p-Q1b1mOSdY_",
        "outputId": "098d0cb3-a37b-4cb5-e8bf-8fc6358da8d7"
      },
      "execution_count": null,
      "outputs": [
        {
          "output_type": "stream",
          "name": "stdout",
          "text": [
            "Looking in indexes: https://pypi.org/simple, https://us-python.pkg.dev/colab-wheels/public/simple/\n",
            "Requirement already satisfied: db-sqlite3 in /usr/local/lib/python3.10/dist-packages (0.0.1)\n",
            "Requirement already satisfied: db in /usr/local/lib/python3.10/dist-packages (from db-sqlite3) (0.1.1)\n",
            "Requirement already satisfied: antiorm in /usr/local/lib/python3.10/dist-packages (from db->db-sqlite3) (1.2.1)\n"
          ]
        }
      ]
    },
    {
      "cell_type": "markdown",
      "source": [
        "Import bibliotek"
      ],
      "metadata": {
        "id": "SqiacL-hdvYy"
      }
    },
    {
      "cell_type": "code",
      "source": [
        "import sqlite3\n",
        "import os\n",
        "import threading\n",
        "from flask import Flask, render_template, request, send_file\n",
        "from pyngrok import ngrok\n",
        "import numpy as np\n",
        "import pickle\n",
        "from PIL import Image\n",
        "from wordcloud import WordCloud, STOPWORDS\n",
        "from io import BytesIO\n",
        "import base64\n",
        "import urllib.parse"
      ],
      "metadata": {
        "id": "URwrfun3WQ-6"
      },
      "execution_count": null,
      "outputs": []
    },
    {
      "cell_type": "markdown",
      "source": [
        "Aplikacja"
      ],
      "metadata": {
        "id": "gwCDAhAodxD2"
      }
    },
    {
      "cell_type": "code",
      "source": [
        "# Token autoryzacyjny do podmiany przez uzytkownika\n",
        "ngrok.set_auth_token(\"2PvGYS2MXO9I1PVsPmb17yA3Jtq_7fDbkruASEHVXiGmxPp86\")\n",
        "\n",
        "os.environ[\"FLASK_DEBUG\"]=\"development\"\n",
        "app=Flask(__name__)\n",
        "port=5000\n",
        "\n",
        "public_url=ngrok.connect(port).public_url\n",
        "print(\" * public url \\\"{}\\\" -> \\\"http://127.0.0.1:{}\\\"\".format(public_url, port))\n",
        "\n",
        "app.config[\"BASE_URL\"]=public_url\n",
        "\n",
        "\n",
        "@app.route(\"/\")\n",
        "@app.route('/home')\n",
        "def index():\n",
        "  return render_template(\"index.html\")\n",
        "\n",
        "#Utworzenie bazy danych\n",
        "connect = sqlite3.connect('database.db')\n",
        "connect.execute(\n",
        "    'CREATE TABLE IF NOT EXISTS PARTICIPANTS (name TEXT, \\\n",
        "    email TEXT,  country TEXT,  review TEXT, note TEXT)')\n",
        "\n",
        "\n",
        "#Wpisanie inicjalne do bazy przykładowych recenzji\n",
        "n_obs=connect.execute(\"SELECT EXISTS (SELECT 1 FROM PARTICIPANTS);\").fetchall()[0][0]\n",
        "if n_obs==0:\n",
        "  intro_data = [(\"John\", \"john@gmail.com\", \"UK\", \"Poor service, rude waiters, long awaiting time.\", \"1 - Terrible\"),\n",
        "             (\"Johny\", \"john1@gmail.com\", \"USA\", \"Very good quality of service, proper communication, elegant serving.\", \"4 - Wonderful\"),\n",
        "             (\"Jan\", \"john2@gmail.com\", \"PL\", \"Poor service, rude waiters, long awaiting time.\", \"3 - Decent\"),\n",
        "             (\"Johannes\", \"john23@gmail.com\", \"DE\", \"Poor service, rude waiters, long awaiting time.\", \"1 - Terrible\"),\n",
        "             (\"Jan\", \"john3@gmail.com\", \"PL\", \"Calming music and polite staff, elegant.\", \"3 - Decent\")\n",
        "          ]\n",
        "\n",
        "\n",
        "  connect.executemany(\"INSERT INTO PARTICIPANTS VALUES(?, ?, ?, ?, ?)\", intro_data)\n",
        "  connect.commit()\n",
        "\n",
        "\n",
        "#Wpisanie do bazy danych wartosci dodanych w ankiecie\n",
        "@app.route('/join', methods=['GET', 'POST'])\n",
        "def join():\n",
        "    if request.method == 'POST':\n",
        "        name = request.form['name']\n",
        "        email = request.form['email']\n",
        "\n",
        "        country = request.form['country']\n",
        "\n",
        "        review = request.form['review']\n",
        "        note = request.form['note']\n",
        "\n",
        "        with sqlite3.connect(\"database.db\") as users:\n",
        "            cursor = users.cursor()\n",
        "            cursor.execute(\"INSERT INTO PARTICIPANTS \\\n",
        "            (name,email,country, review, note) VALUES (?,?,?,?,?)\",\n",
        "                           (name, email, country, review, note))\n",
        "            users.commit()\n",
        "\n",
        "        return render_template(\"index.html\")\n",
        "    else:\n",
        "        return render_template('join.html')\n",
        "\n",
        "\n",
        "#Wyświetlenie rececnji z bazy danych\n",
        "@app.route('/participants')\n",
        "def participants():\n",
        "    connect = sqlite3.connect('database.db')\n",
        "    cursor = connect.cursor()\n",
        "    cursor.execute('SELECT * FROM PARTICIPANTS')\n",
        "\n",
        "    data = cursor.fetchall()\n",
        "    connect.close()\n",
        "    return render_template(\"participants.html\", data=data)\n",
        "\n",
        "\n",
        "\n",
        "#Wygenerowanie chmury wyrazów:\n",
        "@app.route('/wordcloud', methods=[\"POST\",\"GET\"])\n",
        "def wordcloud():\n",
        "\n",
        "        connect = sqlite3.connect('database.db')\n",
        "        cursor = connect.cursor()\n",
        "\n",
        "        texts = []\n",
        "        for row in cursor.execute('SELECT REVIEW FROM PARTICIPANTS'):\n",
        "          texts.append(row[0])\n",
        "\n",
        "        connect.close()\n",
        "        text=''\n",
        "        #tokenizacja recencji i sprowadzenie do małej litery\n",
        "        for element in texts:\n",
        "\n",
        "          element = str(element)\n",
        "\n",
        "          tokens = element.split()\n",
        "\n",
        "          for i in range(len(tokens)):\n",
        "              tokens[i] = tokens[i].lower()\n",
        "\n",
        "          text += \" \".join(tokens)+\" \"\n",
        "\n",
        "        count = 20\n",
        "        width = 500\n",
        "        height = 500\n",
        "        minfontsize = 4\n",
        "        maxfontsize = 150\n",
        "\n",
        "        stopwords = set(STOPWORDS)\n",
        "\n",
        "        wc = WordCloud(background_color=\"black\",\n",
        "                    max_words=count,\n",
        "                    collocations=False,\n",
        "                    width = width,\n",
        "                    min_font_size = minfontsize,\n",
        "                    max_font_size = maxfontsize,\n",
        "                    height = height,\n",
        "                    stopwords = stopwords)\n",
        "\n",
        "        wordcloud = wc.generate(str(text))\n",
        "        wordcloudImage = wordcloud.to_image()\n",
        "\n",
        "        buffer = BytesIO()\n",
        "        wordcloudImage.save(buffer, format=\"png\")\n",
        "        buffer.seek(0)\n",
        "        image_memory = base64.b64encode(buffer.getvalue())\n",
        "\n",
        "        return render_template(\"wordcloud.html\", img_data=image_memory.decode('utf-8'))\n",
        "\n",
        "\n",
        "threading.Thread(target=app.run, kwargs={\"use_reloader\": False}).start()"
      ],
      "metadata": {
        "colab": {
          "base_uri": "https://localhost:8080/"
        },
        "id": "7WLc-dwshbCP",
        "outputId": "ae53a1c4-f507-4698-ce22-c4d795affdbc"
      },
      "execution_count": null,
      "outputs": [
        {
          "output_type": "stream",
          "name": "stderr",
          "text": [
            "WARNING:pyngrok.process.ngrok:t=2023-05-24T17:45:12+0000 lvl=warn msg=\"ngrok config file found at legacy location, move to XDG location\" xdg_path=/root/.config/ngrok/ngrok.yml legacy_path=/root/.ngrok2/ngrok.yml\n"
          ]
        },
        {
          "output_type": "stream",
          "name": "stdout",
          "text": [
            " * public url \"https://986e-35-190-144-194.ngrok-free.app\" -> \"http://127.0.0.1:5000\"\n",
            " * Serving Flask app '__main__'\n",
            " * Debug mode: on\n"
          ]
        }
      ]
    }
  ],
  "metadata": {
    "colab": {
      "provenance": [],
      "toc_visible": true,
      "include_colab_link": true
    },
    "kernelspec": {
      "display_name": "Python 3",
      "name": "python3"
    },
    "language_info": {
      "name": "python"
    }
  },
  "nbformat": 4,
  "nbformat_minor": 0
}